{
 "cells": [
  {
   "cell_type": "markdown",
   "id": "4fd46c0f",
   "metadata": {},
   "source": [
    "The dataset is based on accepted LendingClub loan applications, and the cleaned\n",
    "dataset includes only loans with a final status of either \"Fully Paid\" (0) or \"Charged Off\" (1).\n",
    "\n",
    "**Project AIM** \n",
    "To analyze loan and borrower attributes to understand what drives loan default, and to eventually build a predictive model for loan default risk.\n",
    "\n",
    "| Feature               | Type      | Description                                                 |\n",
    "|-----------------------|-----------|-------------------------------------------------------------|\n",
    "| loan_amnt             | Numeric   | Loan amount funded by investors                             |\n",
    "| term                  | Numeric   | Duration of loan in months (36 or 60)                       |\n",
    "| int_rate              | Numeric   | Interest rate charged on the loan                           |\n",
    "| installment           | Numeric   | Monthly installment amount                                  |\n",
    "| grade                 | Categorical | Internal credit grade (A-G)                               |\n",
    "| emp_length            | Numeric   | Years of employment (0–10, or NaN)                          |\n",
    "| home_ownership        | Categorical | Home ownership status                                     |\n",
    "| annual_inc            | Numeric   | Annual income of the borrower                               |\n",
    "| verification_status   | Categorical | Whether income was verified                               |\n",
    "| purpose               | Categorical | Purpose of the loan (e.g., debt consolidation, home, etc.) |\n",
    "| dti                   | Numeric   | Debt-to-income ratio                                        |\n",
    "| delinq_2yrs           | Numeric   | Number of delinquencies in the past 2 years                 |\n",
    "| inq_last_6mths        | Numeric   | Number of credit inquiries in past 6 months                 |\n",
    "| open_acc              | Numeric   | Number of open credit lines                                 |\n",
    "| pub_rec               | Numeric   | Number of derogatory public records                         |\n",
    "| revol_bal             | Numeric   | Total revolving balance_\n"
   ]
  },
  {
   "cell_type": "markdown",
   "id": "92ef27ec",
   "metadata": {},
   "source": []
  }
 ],
 "metadata": {
  "language_info": {
   "name": "python"
  }
 },
 "nbformat": 4,
 "nbformat_minor": 5
}
