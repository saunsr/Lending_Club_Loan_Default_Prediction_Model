{
 "cells": [
  {
   "cell_type": "markdown",
   "id": "4fd46c0f",
   "metadata": {},
   "source": [
    "The dataset is based on accepted LendingClub loan applications, and the cleaned\n",
    "dataset includes only loans with a final status of either \"Fully Paid\" (0) or \"Charged Off\" (1).\n",
    "\n",
    "**Project AIM** \n",
    "To analyze loan and borrower attributes to understand what drives loan default, and to eventually build a predictive model for loan default risk.\n",
    "\n",
    "| Feature               | Type      | Description                                                 |\n",
    "|-----------------------|-----------|-------------------------------------------------------------|\n",
    "| loan_amnt             | Numeric   | Loan amount funded by investors                             |\n",
    "| term                  | Numeric   | Duration of loan in months (36 or 60)                       |\n",
    "| int_rate              | Numeric   | Interest rate charged on the loan                           |\n",
    "| installment           | Numeric   | Monthly installment amount                                  |\n",
    "| grade                 | Categorical | Internal credit grade (A-G)                               |\n",
    "| emp_length            | Numeric   | Years of employment (0–10, or NaN)                          |\n",
    "| home_ownership        | Categorical | Home ownership status                                     |\n",
    "| annual_inc            | Numeric   | Annual income of the borrower                               |\n",
    "| verification_status   | Categorical | Whether income was verified                               |\n",
    "| purpose               | Categorical | Purpose of the loan (e.g., debt consolidation, home, etc.) |\n",
    "| dti                   | Numeric   | Debt-to-income ratio                                        |\n",
    "| delinq_2yrs           | Numeric   | Number of delinquencies in the past 2 years                 |\n",
    "| inq_last_6mths        | Numeric   | Number of credit inquiries in past 6 months                 |\n",
    "| open_acc              | Numeric   | Number of open credit lines                                 |\n",
    "| pub_rec               | Numeric   | Number of derogatory public records                         |\n",
    "| revol_bal             | Numeric   | Total revolving balance_\n"
   ]
  },
  {
   "cell_type": "markdown",
   "id": "e84d1219",
   "metadata": {},
   "source": [
    "EDA Goals (Before Modeling)\n",
    "You’ll want to explore:\n",
    "\n",
    "1. Class Imbalance\n",
    "Distribution of loan_status (default vs fully paid).\n",
    "\n",
    "Why: Helps determine if you need techniques like oversampling/undersampling or weighted loss functions.\n",
    "\n",
    "2. Univariate Analysis\n",
    "Understand distribution of each feature individually.\n",
    "\n",
    "e.g. loan_amnt, int_rate, dti, emp_length, grade, purpose, etc.\n",
    "\n",
    "Why: Detect outliers, skewness, or problematic features (e.g., near-zero variance).\n",
    "\n",
    "3. Bivariate Analysis with Target (loan_status)\n",
    "How each feature correlates with loan default:\n",
    "\n",
    "Does higher int_rate lead to more defaults?\n",
    "\n",
    "Does emp_length reduce risk?\n",
    "\n",
    "Does loan grade/purpose affect default rate?\n",
    "\n",
    "Visuals: Boxplots, bar plots, KDEs, violin plots grouped by loan_status.\n",
    "\n",
    "4. Correlations\n",
    "Correlation matrix for numeric variables.\n",
    "\n",
    "Why: Helps spot multicollinearity (e.g., fico_range_low and fico_range_high).\n",
    "\n",
    "5. Missing Values\n",
    "Especially for emp_length, which still has ~6% missing.\n",
    "\n",
    "Strategy may depend on its relationship with loan_status.\n",
    "\n",
    "6. Feature Importance (Pre-Model Insight)\n",
    "Simple logistic regression or tree model to get a first glance at influential features."
   ]
  },
  {
   "cell_type": "markdown",
   "id": "e65c3b8f",
   "metadata": {},
   "source": [
    "| Goal                                     | Why it Matters                                       |\n",
    "| ---------------------------------------- | ---------------------------------------------------- |\n",
    "| Understand target distribution           | Default modeling needs balanced or corrected targets |\n",
    "| Understand each feature                  | Detect outliers, transformations, binning needs      |\n",
    "| Understand feature-target relationship   | Discover useful predictors                           |\n",
    "| Understand feature-feature relationships | Reduce multicollinearity                             |\n",
    "| Diagnose missing values                  | Decide whether to impute, drop, or encode            |\n"
   ]
  },
  {
   "cell_type": "markdown",
   "id": "92ef27ec",
   "metadata": {},
   "source": []
  }
 ],
 "metadata": {
  "language_info": {
   "name": "python"
  }
 },
 "nbformat": 4,
 "nbformat_minor": 5
}
