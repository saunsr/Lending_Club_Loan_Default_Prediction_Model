{
 "cells": [
  {
   "cell_type": "markdown",
   "id": "32f1d7b5",
   "metadata": {},
   "source": [
    "This notebook performs initial data cleaning on the LendingClub dataset. We:\n",
    "\n",
    "- Load the dataset via YAML config\n",
    "- Keep only relevant columns (22 out of 151)\n",
    "- Inspect and quantify missing values\n",
    "- Drop rows with <1% missing values (except for `emp_length`, which we retain)\n",
    "- Save cleaned data as `cleaned_lendingclub.csv`"
   ]
  },
  {
   "cell_type": "code",
   "execution_count": 7,
   "id": "24064a0f",
   "metadata": {},
   "outputs": [
    {
     "name": "stderr",
     "output_type": "stream",
     "text": [
      "C:\\Users\\sauna\\AppData\\Local\\Temp\\ipykernel_38468\\3387691774.py:10: DtypeWarning: Columns (0,19,49,59,118,129,130,131,134,135,136,139,145,146,147) have mixed types. Specify dtype option on import or set low_memory=False.\n",
      "  df = pd.read_csv(config['data_path'], compression='gzip')\n"
     ]
    },
    {
     "name": "stdout",
     "output_type": "stream",
     "text": [
      "Raw dataset loaded: (2260701, 151)\n",
      "Columns filtered: (2260701, 22)\n",
      "\n",
      " Missing values before dropping rows:\n",
      "                     Missing Values  Missing %\n",
      "loan_amnt                        33   0.001460\n",
      "term                             33   0.001460\n",
      "int_rate                         33   0.001460\n",
      "installment                      33   0.001460\n",
      "grade                            33   0.001460\n",
      "emp_length                   146940   6.499754\n",
      "home_ownership                   33   0.001460\n",
      "annual_inc                       37   0.001637\n",
      "verification_status              33   0.001460\n",
      "purpose                          33   0.001460\n",
      "dti                            1744   0.077144\n",
      "delinq_2yrs                      62   0.002743\n",
      "inq_last_6mths                   63   0.002787\n",
      "open_acc                         62   0.002743\n",
      "pub_rec                          62   0.002743\n",
      "revol_bal                        33   0.001460\n",
      "revol_util                     1835   0.081170\n",
      "total_acc                        62   0.002743\n",
      "fico_range_low                   33   0.001460\n",
      "fico_range_high                  33   0.001460\n",
      "earliest_cr_line                 62   0.002743\n",
      "loan_status                      33   0.001460\n",
      "\n",
      " Dropped rows with minor missing values. New shape: (2257158, 22)\n",
      "Cleaned dataset saved to ../data/cleaned_lendingclub.csv\n"
     ]
    }
   ],
   "source": [
    "# Import libraries\n",
    "import pandas as pd\n",
    "import numpy as np\n",
    "import yaml\n",
    "\n",
    "# Load config dataset\n",
    "with open('../config/config.yaml', 'r') as f:\n",
    "    config = yaml.safe_load(f)\n",
    "\n",
    "df = pd.read_csv(config['data_path'], compression='gzip')\n",
    "print(\"Raw dataset loaded:\", df.shape)\n",
    "\n",
    "# Select and keep only relevant features\n",
    "columns_to_keep = [\n",
    "    'loan_amnt', 'term', 'int_rate', 'installment',\n",
    "    'grade', 'emp_length', 'home_ownership', 'annual_inc', 'verification_status',\n",
    "    'purpose', 'dti', 'delinq_2yrs', 'inq_last_6mths', 'open_acc', 'pub_rec',\n",
    "    'revol_bal', 'revol_util', 'total_acc', 'fico_range_low', 'fico_range_high',\n",
    "    'earliest_cr_line', 'loan_status'\n",
    "]\n",
    "\n",
    "df = df[columns_to_keep]\n",
    "print(\"Columns filtered:\", df.shape)\n",
    "\n",
    "# Total and percentage of missing values after feature selection\n",
    "missing = df.isnull().sum()\n",
    "missing_percent = (missing / len(df)) * 100\n",
    "\n",
    "missing_df = pd.DataFrame({'Missing Values': missing, 'Missing %': missing_percent})\n",
    "missing_df = missing_df[missing_df['Missing Values'] > 0]\n",
    "missing_df.sort_values('Missing %', ascending=False)\n",
    "print (\"\\n Missing values before dropping rows:\")\n",
    "print(missing_df)\n",
    "\n",
    "\n",
    "# Drop rows with missing values of <1% (except emp_length)\n",
    "df.dropna(subset=[\n",
    "    'loan_amnt', 'term', 'int_rate', 'installment', 'grade',\n",
    "    'home_ownership', 'annual_inc', 'verification_status', 'purpose',\n",
    "    'dti', 'delinq_2yrs', 'inq_last_6mths', 'open_acc', 'pub_rec',\n",
    "    'revol_bal', 'revol_util', 'total_acc', 'fico_range_low',\n",
    "    'fico_range_high', 'earliest_cr_line', 'loan_status'\n",
    "], inplace=True)\n",
    "\n",
    "print(\"\\n Dropped rows with minor missing values. New shape:\", df.shape)\n",
    "\n",
    "# Save cleaned dataset for next step\n",
    "df.to_csv('../data/cleaned_lendingclub.csv', index=False)\n",
    "print(\"Cleaned dataset saved to ../data/cleaned_lendingclub.csv\")\n"
   ]
  }
 ],
 "metadata": {
  "kernelspec": {
   "display_name": "Python 3",
   "language": "python",
   "name": "python3"
  },
  "language_info": {
   "codemirror_mode": {
    "name": "ipython",
    "version": 3
   },
   "file_extension": ".py",
   "mimetype": "text/x-python",
   "name": "python",
   "nbconvert_exporter": "python",
   "pygments_lexer": "ipython3",
   "version": "3.10.0"
  }
 },
 "nbformat": 4,
 "nbformat_minor": 5
}
