{
 "cells": [
  {
   "cell_type": "markdown",
   "id": "5c0ed8d5",
   "metadata": {},
   "source": [
    "This notebook helps us transform and engineer additional features from the cleaned dataset:\n",
    "\n",
    "- Convert categorical columns (`term`, `emp_length`, `loan_status`) into numerical form\n",
    "- Parse date column `earliest_cr_line` and derive `credit_history_years`\n",
    "- Save the fully cleaned and feature-enhanced dataset for modeling"
   ]
  },
  {
   "cell_type": "code",
   "execution_count": null,
   "id": "0dd4e906",
   "metadata": {},
   "outputs": [
    {
     "name": "stdout",
     "output_type": "stream",
     "text": [
      "Cleaned data loaded. Shape: (2257158, 22)\n",
      "Final dataset shape: (1344079, 22)\n",
      "Remaining columns: ['loan_amnt', 'term', 'int_rate', 'installment', 'grade', 'emp_length', 'home_ownership', 'annual_inc', 'verification_status', 'purpose', 'dti', 'delinq_2yrs', 'inq_last_6mths', 'open_acc', 'pub_rec', 'revol_bal', 'revol_util', 'total_acc', 'fico_range_low', 'fico_range_high', 'loan_status', 'credit_history_years']\n",
      "\n",
      " Remaining missing values:\n",
      "emp_length     78104\n",
      "loan_amnt          0\n",
      "term               0\n",
      "int_rate           0\n",
      "installment        0\n",
      "dtype: int64\n",
      "Feature-engineered dataset saved to: ../data/featured_lendingclub.csv\n"
     ]
    }
   ],
   "source": [
    "# Import necessary libraries\n",
    "import pandas as pd\n",
    "import numpy as np\n",
    "import yaml\n",
    "\n",
    "# Load config file\n",
    "with open('../config/config.yaml', 'r') as f:\n",
    "    config = yaml.safe_load(f)\n",
    "\n",
    "# Load cleaned dataset from 02_data_cleaning\n",
    "df = pd.read_csv(config['cleaned_data_path'])\n",
    "print(\"Cleaned data loaded. Shape:\", df.shape)\n",
    "\n",
    "# STEP 1: Convert 'term' to integer (36/60)\n",
    "df['term'] = df['term'].str.extract('(\\d+)').astype('Int64')\n",
    "\n",
    "\n",
    "# STEP 2: Convert 'emp_length' to numeric\n",
    "emp_length_map = {\n",
    "    '< 1 year': 0, '1 year': 1, '2 years': 2, '3 years': 3, '4 years': 4,\n",
    "    '5 years': 5, '6 years': 6, '7 years': 7, '8 years': 8, '9 years': 9,\n",
    "    '10+ years': 10, 'n/a': np.nan\n",
    "}\n",
    "df['emp_length'] = df['emp_length'].map(emp_length_map)\n",
    "\n",
    "\n",
    "# STEP 3: Encode 'loan_status' as binary\n",
    "# Fully Paid (0) and Charged Off (1)\n",
    "df = df[df['loan_status'].isin(['Fully Paid', 'Charged Off'])]\n",
    "df['loan_status'] = df['loan_status'].map({'Fully Paid': 0, 'Charged Off': 1})\n",
    "\n",
    "\n",
    "# STEP 4: Calculate credit history length\n",
    "# Convert 'earliest_cr_line' to datetime\n",
    "# Convert 'credit_history_years'\n",
    "df['earliest_cr_line'] = pd.to_datetime(df['earliest_cr_line'], format='%b-%Y', errors='coerce')\n",
    "df['credit_history_years'] = 2025 - df['earliest_cr_line'].dt.year\n",
    "# Drop the original column\n",
    "df.drop(columns='earliest_cr_line', inplace=True)\n",
    "\n",
    "\n",
    "# Final Checks\n",
    "print(\"Final dataset shape:\", df.shape)\n",
    "print(\"Remaining columns:\", df.columns.tolist())\n",
    "print(\"\\n Remaining missing values:\")\n",
    "print(df.isnull().sum().sort_values(ascending=False).head())\n",
    "\n",
    "# Save to cleaned output CSV\n",
    "df.to_csv(config['featured_data_path'], index=False)\n",
    "print(\"Feature-engineered dataset saved to:\", config['featured_data_path'])\n"
   ]
  }
 ],
 "metadata": {
  "kernelspec": {
   "display_name": "Python 3",
   "language": "python",
   "name": "python3"
  },
  "language_info": {
   "codemirror_mode": {
    "name": "ipython",
    "version": 3
   },
   "file_extension": ".py",
   "mimetype": "text/x-python",
   "name": "python",
   "nbconvert_exporter": "python",
   "pygments_lexer": "ipython3",
   "version": "3.10.0"
  }
 },
 "nbformat": 4,
 "nbformat_minor": 5
}
